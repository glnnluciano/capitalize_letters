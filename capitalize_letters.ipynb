{
 "cells": [
  {
   "cell_type": "markdown",
   "metadata": {},
   "source": [
    "## Lab exercise 3\n",
    "### Provide a list comprehension that implementation for a function called vowelsToUpper with the following signature:\n",
    "\n",
    "method name : vowelsToUpper\n",
    "\n",
    "input argument : String \n",
    "\n",
    "return argument : String\n",
    "\n",
    "vowelsToUpper must return a version of its String argument with all its vowels changed to their uppercase forms. Nonvowel characters stay as is.\n",
    "\n",
    "### Sample Calls\n",
    "\n",
    "vowelsToUpper \"\" == \"\"\n",
    "\n",
    "vowelsToUpper \"Hello, world!\" == \"HEllO, wOrld!\"\n",
    "\n",
    "vowelsToUpper \"hello hi bye\" == \"hEllO hI byE\""
   ]
  },
  {
   "cell_type": "code",
   "execution_count": 1,
   "metadata": {},
   "outputs": [
    {
     "name": "stdout",
     "output_type": "stream",
     "text": [
      "Hello, world! == HEllO, wOrld!\n"
     ]
    }
   ],
   "source": [
    "# solution here\n",
    "\n",
    "class Capitalize:\n",
    "    def __init__(self, word):\n",
    "        self.word = word\n",
    "\n",
    "    def vowelsToUpper(self):\n",
    "        vowels_to_upper = \"\".join([letter if letter not in [\"a\", \"e\", \"i\", \"o\", \"u\"] else letter.upper() for letter in (letter for letter in self.word)])\n",
    "        return vowels_to_upper\n",
    "\n",
    "user_input = input(\"Enter a word: \")\n",
    "capitalize = Capitalize(user_input)\n",
    "word_0 = capitalize.vowelsToUpper()\n",
    "\n",
    "print(user_input, \"==\", word_0)"
   ]
  }
 ],
 "metadata": {
  "kernelspec": {
   "display_name": "Python 3",
   "language": "python",
   "name": "python3"
  },
  "language_info": {
   "codemirror_mode": {
    "name": "ipython",
    "version": 3
   },
   "file_extension": ".py",
   "mimetype": "text/x-python",
   "name": "python",
   "nbconvert_exporter": "python",
   "pygments_lexer": "ipython3",
   "version": "3.12.0"
  }
 },
 "nbformat": 4,
 "nbformat_minor": 2
}
